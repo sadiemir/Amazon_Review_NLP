{
 "cells": [
  {
   "cell_type": "code",
   "execution_count": 1,
   "id": "281748de",
   "metadata": {},
   "outputs": [],
   "source": [
    "import numpy as np\n",
    "import pandas as pd"
   ]
  },
  {
   "cell_type": "markdown",
   "id": "c284ac55",
   "metadata": {},
   "source": [
    "#### Step 1: Load the datasets"
   ]
  },
  {
   "cell_type": "code",
   "execution_count": 2,
   "id": "2713bbe9",
   "metadata": {},
   "outputs": [],
   "source": [
    "#load the data\n",
    "# we will use the preprocessed data from now on: \n",
    "df_train_preprocessed= pd.read_csv('/Users/smirghor/Library/Mobile Documents/com~apple~CloudDocs/Personal/Machine Learning Projects/data.nosync/amazon_review_polarity_csv/preprocessed_reviews_train.csv')\n",
    "df_test_preprocessed = pd.read_csv('/Users/smirghor/Library/Mobile Documents/com~apple~CloudDocs/Personal/Machine Learning Projects/data.nosync/amazon_review_polarity_csv/preprocessed_reviews_test.csv')"
   ]
  },
  {
   "cell_type": "code",
   "execution_count": 3,
   "id": "a719fe58",
   "metadata": {},
   "outputs": [
    {
     "data": {
      "text/html": [
       "<div>\n",
       "<style scoped>\n",
       "    .dataframe tbody tr th:only-of-type {\n",
       "        vertical-align: middle;\n",
       "    }\n",
       "\n",
       "    .dataframe tbody tr th {\n",
       "        vertical-align: top;\n",
       "    }\n",
       "\n",
       "    .dataframe thead th {\n",
       "        text-align: right;\n",
       "    }\n",
       "</style>\n",
       "<table border=\"1\" class=\"dataframe\">\n",
       "  <thead>\n",
       "    <tr style=\"text-align: right;\">\n",
       "      <th></th>\n",
       "      <th>polarity</th>\n",
       "      <th>title</th>\n",
       "      <th>text</th>\n",
       "    </tr>\n",
       "  </thead>\n",
       "  <tbody>\n",
       "    <tr>\n",
       "      <th>0</th>\n",
       "      <td>2</td>\n",
       "      <td>The best soundtrack ever to anything.</td>\n",
       "      <td>['im', 'reading', 'lot', 'review', 'saying', '...</td>\n",
       "    </tr>\n",
       "    <tr>\n",
       "      <th>1</th>\n",
       "      <td>2</td>\n",
       "      <td>Amazing!</td>\n",
       "      <td>['soundtrack', 'favorite', 'music', 'time', 'h...</td>\n",
       "    </tr>\n",
       "    <tr>\n",
       "      <th>2</th>\n",
       "      <td>2</td>\n",
       "      <td>Excellent Soundtrack</td>\n",
       "      <td>['truly', 'like', 'soundtrack', 'enjoy', 'vide...</td>\n",
       "    </tr>\n",
       "    <tr>\n",
       "      <th>3</th>\n",
       "      <td>2</td>\n",
       "      <td>Remember, Pull Your Jaw Off The Floor After He...</td>\n",
       "      <td>['youve', 'played', 'game', 'know', 'divine', ...</td>\n",
       "    </tr>\n",
       "    <tr>\n",
       "      <th>4</th>\n",
       "      <td>2</td>\n",
       "      <td>an absolute masterpiece</td>\n",
       "      <td>['quite', 'sure', 'actually', 'taking', 'time'...</td>\n",
       "    </tr>\n",
       "  </tbody>\n",
       "</table>\n",
       "</div>"
      ],
      "text/plain": [
       "   polarity                                              title   \n",
       "0         2              The best soundtrack ever to anything.  \\\n",
       "1         2                                           Amazing!   \n",
       "2         2                               Excellent Soundtrack   \n",
       "3         2  Remember, Pull Your Jaw Off The Floor After He...   \n",
       "4         2                            an absolute masterpiece   \n",
       "\n",
       "                                                text  \n",
       "0  ['im', 'reading', 'lot', 'review', 'saying', '...  \n",
       "1  ['soundtrack', 'favorite', 'music', 'time', 'h...  \n",
       "2  ['truly', 'like', 'soundtrack', 'enjoy', 'vide...  \n",
       "3  ['youve', 'played', 'game', 'know', 'divine', ...  \n",
       "4  ['quite', 'sure', 'actually', 'taking', 'time'...  "
      ]
     },
     "execution_count": 3,
     "metadata": {},
     "output_type": "execute_result"
    }
   ],
   "source": [
    "df_train_preprocessed.head()"
   ]
  },
  {
   "cell_type": "code",
   "execution_count": 4,
   "id": "db3f1c2b",
   "metadata": {},
   "outputs": [
    {
     "data": {
      "text/html": [
       "<div>\n",
       "<style scoped>\n",
       "    .dataframe tbody tr th:only-of-type {\n",
       "        vertical-align: middle;\n",
       "    }\n",
       "\n",
       "    .dataframe tbody tr th {\n",
       "        vertical-align: top;\n",
       "    }\n",
       "\n",
       "    .dataframe thead th {\n",
       "        text-align: right;\n",
       "    }\n",
       "</style>\n",
       "<table border=\"1\" class=\"dataframe\">\n",
       "  <thead>\n",
       "    <tr style=\"text-align: right;\">\n",
       "      <th></th>\n",
       "      <th>polarity</th>\n",
       "      <th>title</th>\n",
       "      <th>text</th>\n",
       "    </tr>\n",
       "  </thead>\n",
       "  <tbody>\n",
       "    <tr>\n",
       "      <th>0</th>\n",
       "      <td>2</td>\n",
       "      <td>One of the best game music soundtracks - for a...</td>\n",
       "      <td>['despite', 'fact', 'played', 'small', 'portio...</td>\n",
       "    </tr>\n",
       "    <tr>\n",
       "      <th>1</th>\n",
       "      <td>1</td>\n",
       "      <td>Batteries died within a year ...</td>\n",
       "      <td>['bought', 'charger', 'jul', '2003', 'worked',...</td>\n",
       "    </tr>\n",
       "    <tr>\n",
       "      <th>2</th>\n",
       "      <td>2</td>\n",
       "      <td>works fine, but Maha Energy is better</td>\n",
       "      <td>['check', 'maha', 'energy', 'website', 'powere...</td>\n",
       "    </tr>\n",
       "    <tr>\n",
       "      <th>3</th>\n",
       "      <td>2</td>\n",
       "      <td>Great for the non-audiophile</td>\n",
       "      <td>['reviewed', 'quite', 'bit', 'combo', 'player'...</td>\n",
       "    </tr>\n",
       "    <tr>\n",
       "      <th>4</th>\n",
       "      <td>1</td>\n",
       "      <td>DVD Player crapped out after one year</td>\n",
       "      <td>['also', 'began', 'incorrect', 'disc', 'proble...</td>\n",
       "    </tr>\n",
       "  </tbody>\n",
       "</table>\n",
       "</div>"
      ],
      "text/plain": [
       "   polarity                                              title   \n",
       "0         2  One of the best game music soundtracks - for a...  \\\n",
       "1         1                   Batteries died within a year ...   \n",
       "2         2              works fine, but Maha Energy is better   \n",
       "3         2                       Great for the non-audiophile   \n",
       "4         1              DVD Player crapped out after one year   \n",
       "\n",
       "                                                text  \n",
       "0  ['despite', 'fact', 'played', 'small', 'portio...  \n",
       "1  ['bought', 'charger', 'jul', '2003', 'worked',...  \n",
       "2  ['check', 'maha', 'energy', 'website', 'powere...  \n",
       "3  ['reviewed', 'quite', 'bit', 'combo', 'player'...  \n",
       "4  ['also', 'began', 'incorrect', 'disc', 'proble...  "
      ]
     },
     "execution_count": 4,
     "metadata": {},
     "output_type": "execute_result"
    }
   ],
   "source": [
    "df_test_preprocessed.head()"
   ]
  },
  {
   "cell_type": "markdown",
   "id": "bf3a5f77",
   "metadata": {},
   "source": [
    "#### Step 2: Convert text to numerical features. \n",
    "Options are: Bag of word (BoW), Term Frequency-Inverse Document Frequency (TF-IDF), and Word Embeddings (Optional for Deep Learning)"
   ]
  },
  {
   "cell_type": "code",
   "execution_count": 5,
   "id": "65745cc3",
   "metadata": {},
   "outputs": [],
   "source": [
    "#Start with the simplest model, Bag of Words\n",
    "from sklearn.feature_extraction.text import CountVectorizer\n"
   ]
  },
  {
   "cell_type": "code",
   "execution_count": null,
   "id": "cc54cd4c",
   "metadata": {},
   "outputs": [],
   "source": []
  }
 ],
 "metadata": {
  "kernelspec": {
   "display_name": "Python 3 (ipykernel)",
   "language": "python",
   "name": "python3"
  },
  "language_info": {
   "codemirror_mode": {
    "name": "ipython",
    "version": 3
   },
   "file_extension": ".py",
   "mimetype": "text/x-python",
   "name": "python",
   "nbconvert_exporter": "python",
   "pygments_lexer": "ipython3",
   "version": "3.11.1"
  }
 },
 "nbformat": 4,
 "nbformat_minor": 5
}
